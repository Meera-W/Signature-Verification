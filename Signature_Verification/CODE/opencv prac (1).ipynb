{
 "cells": [
  {
   "cell_type": "code",
   "execution_count": 1,
   "metadata": {},
   "outputs": [
    {
     "name": "stdout",
     "output_type": "stream",
     "text": [
      "4.4.0\n"
     ]
    }
   ],
   "source": [
    "import cv2\n",
    "import numpy as np\n",
    "print(cv2.__version__)\n",
    "\n",
    "\n"
   ]
  },
  {
   "cell_type": "code",
   "execution_count": 2,
   "metadata": {},
   "outputs": [],
   "source": [
    "#img = cv2.imread('Downloads/cloud1.jpg',0)\n",
    "#original = cv2.imread('Downloads/sign1-24121.png',0)\n",
    "#duplicate = cv2.imread('Downloads/cloud2.jpg',0)\n",
    "#loads an image in greyscale bgr\n",
    "\n",
    "#image1 = original.shape\n",
    "#image2 = duplicate.shape\n",
    "#print(image1)\n",
    "#print(image2) #to check for duplicate images\n",
    "\n",
    "#if image1 == image2:\n",
    "    #print(\"The images have same size and channels.\")\n",
    "    #difference = cv2.subtract(original,duplicate)\n",
    "    #cv2.imshow(\"difference\",difference)\n",
    "\n",
    "#cv2.imshow('image',original)\n",
    "#cv2.waitKey(0)\n",
    "#cv2.destroyAllWindows()\n",
    "#cv2.imshow('image',duplicate)\n",
    "#cv2.waitKey(0)\n",
    "#cv2.destroyAllWindows()"
   ]
  },
  {
   "cell_type": "code",
   "execution_count": 118,
   "metadata": {},
   "outputs": [
    {
     "name": "stdout",
     "output_type": "stream",
     "text": [
      "Images of signatures should be in Standard Format - 650px * 150px with white background. Kindly ensure that your signature is in the centre of the image\n",
      "\n",
      "\n",
      "Title: Downloads/a_signs\\sign1-24121.png\n",
      "Similarity: 94\n",
      "\n",
      "Title: Downloads/a_signs\\sign2 - 24109.png\n",
      "Similarity: 90\n",
      "\n",
      "Title: Downloads/a_signs\\sign3 - 24057.png\n",
      "Similarity: 95\n",
      "\n",
      "Title: Downloads/a_signs\\sign4 - 24051.png\n",
      "Similarity: 92\n",
      "\n",
      "Similarity: 100% (equal size and channels). Accurate Image is Found, as we've compared the image to itself.\n",
      "\n",
      "\n",
      "Average signature accuracy is:  93.39522946859904 %\n",
      "\n",
      "Signatures are authentic!\n"
     ]
    }
   ],
   "source": [
    "import cv2\n",
    "import numpy as np\n",
    "import glob\n",
    "\n",
    "#a path - \"Downloads/a_signs/sign5- 24043.png\" - all signatures by the same person\n",
    "#b_path - \"Downloads/b_signs/b_sign4 - 81820.png\"  - here a few images are similar, a few are not\n",
    "#c path - \"Downloads/c_signs/c_sign5 - 82135.png\"  - no sign is similar\n",
    "print(\"Images of signatures should be in Standard Format - 650px * 150px with white background. Kindly ensure that your signature is in the centre of the image\\n\\n\")\n",
    "original = cv2.imread(\"Downloads/a_signs/sign5- 24043.png\")\n",
    "\n",
    "# Sift and Flann\n",
    "sift = cv2.xfeatures2d.SIFT_create()\n",
    "\n",
    "kp_1, desc_1 = sift.detectAndCompute(original, None)\n",
    "\n",
    "index_params = dict(algorithm=0, trees=5)\n",
    "search_params = dict()\n",
    "flann = cv2.FlannBasedMatcher(index_params, search_params)\n",
    "\n",
    "# Load all the images\n",
    "sum = 0\n",
    "avg = 0\n",
    "all_images_to_compare = []\n",
    "titles = []\n",
    "similarity = []\n",
    "\n",
    "for f in glob.iglob(\"Downloads/a_signs/*\"):\n",
    "    image = cv2.imread(f)\n",
    "    titles.append(f)\n",
    "    all_images_to_compare.append(image)\n",
    "    \n",
    "for image_to_compare, title in zip(all_images_to_compare, titles):\n",
    "    #1) Check if 2 images are equals\n",
    "    if original.shape == image_to_compare.shape:\n",
    "        difference = cv2.subtract(original, image_to_compare)\n",
    "        b, g, r = cv2.split(difference)\n",
    "        if cv2.countNonZero(b) == 0 and cv2.countNonZero(g) == 0 and cv2.countNonZero(r) == 0:\n",
    "            print(\"Similarity: 100% (equal size and channels). Accurate Image is Found, as we've compared the image to itself.\\n\")\n",
    "            continue\n",
    "            \n",
    "    # 2) Continue to check for similarities between the 2 images\n",
    "    \n",
    "    kp_2, desc_2 = sift.detectAndCompute(image_to_compare, None)\n",
    "    matches = flann.knnMatch(desc_1, desc_2, k=2)\n",
    "    good_points = []\n",
    "    for m, n in matches:\n",
    "        if m.distance > 0.6*n.distance:\n",
    "            good_points.append(m)\n",
    "    number_keypoints = 0\n",
    "    if len(kp_1) >= len(kp_2):\n",
    "        number_keypoints = len(kp_1)\n",
    "    else:\n",
    "        number_keypoints = len(kp_2)\n",
    "    print(\"Title: \" + title)\n",
    "    percentage_similarity = len(good_points) / number_keypoints * 100\n",
    "    print(\"Similarity: \" + str(int(percentage_similarity)) + \"\\n\")\n",
    "    similarity.append(percentage_similarity)\n",
    "    \n",
    "for i in similarity:\n",
    "    sum += i\n",
    "avg = sum/len(similarity)\n",
    "print(\"\\nAverage signature accuracy is: \",avg,\"%\\n\")\n",
    "\n",
    "#print(\"Number of Images that don't match 100%: \",len(similarity),\"\\n\")\n",
    "\n",
    "if (avg>90):\n",
    "    print(\"Signatures are authentic!\")\n",
    "else:\n",
    "    print(\"Signatures do not seem authentic. Sorry, try again.\")\n",
    "    "
   ]
  },
  {
   "cell_type": "code",
   "execution_count": null,
   "metadata": {},
   "outputs": [],
   "source": []
  },
  {
   "cell_type": "code",
   "execution_count": null,
   "metadata": {},
   "outputs": [],
   "source": []
  }
 ],
 "metadata": {
  "kernelspec": {
   "display_name": "Python 3",
   "language": "python",
   "name": "python3"
  },
  "language_info": {
   "codemirror_mode": {
    "name": "ipython",
    "version": 3
   },
   "file_extension": ".py",
   "mimetype": "text/x-python",
   "name": "python",
   "nbconvert_exporter": "python",
   "pygments_lexer": "ipython3",
   "version": "3.8.5"
  }
 },
 "nbformat": 4,
 "nbformat_minor": 4
}
